{
 "cells": [
  {
   "cell_type": "code",
   "execution_count": 2,
   "metadata": {},
   "outputs": [],
   "source": [
    "from pathlib import Path\n",
    "import csv"
   ]
  },
  {
   "cell_type": "code",
   "execution_count": 3,
   "metadata": {},
   "outputs": [],
   "source": [
    "filepath = Path(\"Resources/budget_data.csv\")"
   ]
  },
  {
   "cell_type": "code",
   "execution_count": 4,
   "metadata": {},
   "outputs": [
    {
     "name": "stdout",
     "output_type": "stream",
     "text": [
      "Resources\\budget_data.csv\n"
     ]
    }
   ],
   "source": [
    "print(filepath)"
   ]
  },
  {
   "cell_type": "code",
   "execution_count": 5,
   "metadata": {},
   "outputs": [],
   "source": [
    "total_months = 0\n",
    "total_profit_loss = 0\n",
    "average = 0\n",
    "minimum = 0\n",
    "maximum = 0\n"
   ]
  },
  {
   "cell_type": "code",
   "execution_count": 6,
   "metadata": {},
   "outputs": [],
   "source": [
    "dates = []\n",
    "profits = []"
   ]
  },
  {
   "cell_type": "code",
   "execution_count": 7,
   "metadata": {},
   "outputs": [
    {
     "data": {
      "text/plain": [
       "WindowsPath('Resources/budget_data.csv')"
      ]
     },
     "execution_count": 7,
     "metadata": {},
     "output_type": "execute_result"
    }
   ],
   "source": [
    "filepath"
   ]
  },
  {
   "cell_type": "code",
   "execution_count": 8,
   "metadata": {},
   "outputs": [
    {
     "name": "stdout",
     "output_type": "stream",
     "text": [
      "['Jan-10', '867884']\n",
      "['Feb-10', '984655']\n",
      "['Mar-10', '322013']\n",
      "['Apr-10', '-69417']\n",
      "['May-10', '310503']\n",
      "['Jun-10', '522857']\n",
      "['Jul-10', '1033096']\n",
      "['Aug-10', '604885']\n",
      "['Sep-10', '-216386']\n",
      "['Oct-10', '477532']\n",
      "['Nov-10', '893810']\n",
      "['Dec-10', '-80353']\n",
      "['Jan-11', '779806']\n",
      "['Feb-11', '-335203']\n",
      "['Mar-11', '697845']\n",
      "['Apr-11', '793163']\n",
      "['May-11', '485070']\n",
      "['Jun-11', '584122']\n",
      "['Jul-11', '62729']\n",
      "['Aug-11', '668179']\n",
      "['Sep-11', '899906']\n",
      "['Oct-11', '834719']\n",
      "['Nov-11', '132003']\n",
      "['Dec-11', '309978']\n",
      "['Jan-12', '-755566']\n",
      "['Feb-12', '1170593']\n",
      "['Mar-12', '252788']\n",
      "['Apr-12', '1151518']\n",
      "['May-12', '817256']\n",
      "['Jun-12', '570757']\n",
      "['Jul-12', '506702']\n",
      "['Aug-12', '-1022534']\n",
      "['Sep-12', '475062']\n",
      "['Oct-12', '779976']\n",
      "['Nov-12', '144175']\n",
      "['Dec-12', '542494']\n",
      "['Jan-13', '359333']\n",
      "['Feb-13', '321469']\n",
      "['Mar-13', '67780']\n",
      "['Apr-13', '471435']\n",
      "['May-13', '565603']\n",
      "['Jun-13', '872480']\n",
      "['Jul-13', '789480']\n",
      "['Aug-13', '999942']\n",
      "['Sep-13', '-1196225']\n",
      "['Oct-13', '268997']\n",
      "['Nov-13', '-687986']\n",
      "['Dec-13', '1150461']\n",
      "['Jan-14', '682458']\n",
      "['Feb-14', '617856']\n",
      "['Mar-14', '824098']\n",
      "['Apr-14', '581943']\n",
      "['May-14', '132864']\n",
      "['Jun-14', '448062']\n",
      "['Jul-14', '689161']\n",
      "['Aug-14', '800701']\n",
      "['Sep-14', '1166643']\n",
      "['Oct-14', '947333']\n",
      "['Nov-14', '578668']\n",
      "['Dec-14', '988505']\n",
      "['Jan-15', '1139715']\n",
      "['Feb-15', '1029471']\n",
      "['Mar-15', '687533']\n",
      "['Apr-15', '-524626']\n",
      "['May-15', '158620']\n",
      "['Jun-15', '87795']\n",
      "['Jul-15', '423389']\n",
      "['Aug-15', '840723']\n",
      "['Sep-15', '568529']\n",
      "['Oct-15', '332067']\n",
      "['Nov-15', '989499']\n",
      "['Dec-15', '778237']\n",
      "['Jan-16', '650000']\n",
      "['Feb-16', '-1100387']\n",
      "['Mar-16', '-174946']\n",
      "['Apr-16', '757143']\n",
      "['May-16', '445709']\n",
      "['Jun-16', '712961']\n",
      "['Jul-16', '-1163797']\n",
      "['Aug-16', '569899']\n",
      "['Sep-16', '768450']\n",
      "['Oct-16', '102685']\n",
      "['Nov-16', '795914']\n",
      "['Dec-16', '60988']\n",
      "['Jan-17', '138230']\n",
      "['Feb-17', '671099']\n"
     ]
    }
   ],
   "source": [
    "with open(filepath, newline=\"\") as budget_file:\n",
    "    csvreader = csv.reader(budget_file,delimiter=\",\")\n",
    "    header = next(csvreader)\n",
    "    for row in csvreader:\n",
    "        print(row)"
   ]
  },
  {
   "cell_type": "code",
   "execution_count": 29,
   "metadata": {},
   "outputs": [
    {
     "ename": "ValueError",
     "evalue": "I/O operation on closed file.",
     "output_type": "error",
     "traceback": [
      "\u001b[1;31m---------------------------------------------------------------------------\u001b[0m",
      "\u001b[1;31mValueError\u001b[0m                                Traceback (most recent call last)",
      "\u001b[1;32mc:\\Users\\oakos\\Desktop\\Python-challenge\\python-challenge\\Pybank\\main.ipynb Cell 8\u001b[0m line \u001b[0;36m1\n\u001b[1;32m----> <a href='vscode-notebook-cell:/c%3A/Users/oakos/Desktop/Python-challenge/python-challenge/Pybank/main.ipynb#X11sZmlsZQ%3D%3D?line=0'>1</a>\u001b[0m \u001b[39mfor\u001b[39;00m row \u001b[39min\u001b[39;00m csvreader:\n\u001b[0;32m      <a href='vscode-notebook-cell:/c%3A/Users/oakos/Desktop/Python-challenge/python-challenge/Pybank/main.ipynb#X11sZmlsZQ%3D%3D?line=1'>2</a>\u001b[0m      total_months \u001b[39m+\u001b[39m\u001b[39m=\u001b[39m \u001b[39m1\u001b[39m\n\u001b[0;32m      <a href='vscode-notebook-cell:/c%3A/Users/oakos/Desktop/Python-challenge/python-challenge/Pybank/main.ipynb#X11sZmlsZQ%3D%3D?line=2'>3</a>\u001b[0m      total_profit_loss \u001b[39m+\u001b[39m\u001b[39m=\u001b[39m \u001b[39mint\u001b[39m[\u001b[39m1\u001b[39m]\n",
      "\u001b[1;31mValueError\u001b[0m: I/O operation on closed file."
     ]
    }
   ],
   "source": [
    "for row in csvreader:\n",
    "     total_months += 1\n",
    "     total_profit_loss += int[1]\n",
    "     value = int[1]"
   ]
  },
  {
   "cell_type": "code",
   "execution_count": 18,
   "metadata": {},
   "outputs": [],
   "source": [
    "dates.append(row[0])"
   ]
  },
  {
   "cell_type": "code",
   "execution_count": 20,
   "metadata": {},
   "outputs": [],
   "source": [
    "total_profit_loss = total_profit_loss + int(row[1])"
   ]
  },
  {
   "cell_type": "code",
   "execution_count": 27,
   "metadata": {},
   "outputs": [
    {
     "ename": "ZeroDivisionError",
     "evalue": "division by zero",
     "output_type": "error",
     "traceback": [
      "\u001b[1;31m---------------------------------------------------------------------------\u001b[0m",
      "\u001b[1;31mZeroDivisionError\u001b[0m                         Traceback (most recent call last)",
      "\u001b[1;32mc:\\Users\\oakos\\Desktop\\Python-challenge\\python-challenge\\Pybank\\main.ipynb Cell 11\u001b[0m line \u001b[0;36m1\n\u001b[1;32m----> <a href='vscode-notebook-cell:/c%3A/Users/oakos/Desktop/Python-challenge/python-challenge/Pybank/main.ipynb#X15sZmlsZQ%3D%3D?line=0'>1</a>\u001b[0m Average_change \u001b[39m=\u001b[39m \u001b[39msum\u001b[39;49m(profits)\u001b[39m/\u001b[39;49m\u001b[39mlen\u001b[39;49m(profits)\n\u001b[0;32m      <a href='vscode-notebook-cell:/c%3A/Users/oakos/Desktop/Python-challenge/python-challenge/Pybank/main.ipynb#X15sZmlsZQ%3D%3D?line=1'>2</a>\u001b[0m greatest_increase \u001b[39m=\u001b[39m \u001b[39mmax\u001b[39m(profits)\n\u001b[0;32m      <a href='vscode-notebook-cell:/c%3A/Users/oakos/Desktop/Python-challenge/python-challenge/Pybank/main.ipynb#X15sZmlsZQ%3D%3D?line=2'>3</a>\u001b[0m greatest_increase_index \u001b[39m=\u001b[39m profits\u001b[39m.\u001b[39mindex(greatest_increase)\n",
      "\u001b[1;31mZeroDivisionError\u001b[0m: division by zero"
     ]
    }
   ],
   "source": [
    "Average_change = sum(profits)/len(profits)\n",
    "greatest_increase = max(profits)\n",
    "greatest_increase_index = profits.index(greatest_increase)\n",
    "greatest_increase_date = dates[greatest_increase_index]\n",
    "greatest_decrease = min(profits)\n",
    "greatest_decrease_index = profits.index(greatest_decrease)\n",
    "greatest_decrease_date = dates[greatest_decrease_index]"
   ]
  },
  {
   "cell_type": "code",
   "execution_count": 26,
   "metadata": {},
   "outputs": [
    {
     "name": "stdout",
     "output_type": "stream",
     "text": [
      "----------Summary statistics--------\n",
      "Total Months: 1\n",
      "Total_Profit_loss: 671099\n"
     ]
    },
    {
     "ename": "NameError",
     "evalue": "name 'average_change' is not defined",
     "output_type": "error",
     "traceback": [
      "\u001b[1;31m---------------------------------------------------------------------------\u001b[0m",
      "\u001b[1;31mNameError\u001b[0m                                 Traceback (most recent call last)",
      "\u001b[1;32mc:\\Users\\oakos\\Desktop\\Python-challenge\\python-challenge\\Pybank\\main.ipynb Cell 12\u001b[0m line \u001b[0;36m4\n\u001b[0;32m      <a href='vscode-notebook-cell:/c%3A/Users/oakos/Desktop/Python-challenge/python-challenge/Pybank/main.ipynb#X20sZmlsZQ%3D%3D?line=1'>2</a>\u001b[0m \u001b[39mprint\u001b[39m(\u001b[39mf\u001b[39m\u001b[39m\"\u001b[39m\u001b[39mTotal Months: \u001b[39m\u001b[39m{\u001b[39;00mtotal_months\u001b[39m}\u001b[39;00m\u001b[39m\"\u001b[39m)\n\u001b[0;32m      <a href='vscode-notebook-cell:/c%3A/Users/oakos/Desktop/Python-challenge/python-challenge/Pybank/main.ipynb#X20sZmlsZQ%3D%3D?line=2'>3</a>\u001b[0m \u001b[39mprint\u001b[39m(\u001b[39mf\u001b[39m\u001b[39m\"\u001b[39m\u001b[39mTotal_Profit_loss: \u001b[39m\u001b[39m{\u001b[39;00mtotal_profit_loss\u001b[39m}\u001b[39;00m\u001b[39m\"\u001b[39m)\n\u001b[1;32m----> <a href='vscode-notebook-cell:/c%3A/Users/oakos/Desktop/Python-challenge/python-challenge/Pybank/main.ipynb#X20sZmlsZQ%3D%3D?line=3'>4</a>\u001b[0m \u001b[39mprint\u001b[39m(\u001b[39mf\u001b[39m\u001b[39m\"\u001b[39m\u001b[39mAverage_Change: \u001b[39m\u001b[39m{\u001b[39;00m\u001b[39mround\u001b[39m(average_change),\u001b[39m2\u001b[39m\u001b[39m}\u001b[39;00m\u001b[39m)\u001b[39m\u001b[39m\"\u001b[39m)\n\u001b[0;32m      <a href='vscode-notebook-cell:/c%3A/Users/oakos/Desktop/Python-challenge/python-challenge/Pybank/main.ipynb#X20sZmlsZQ%3D%3D?line=4'>5</a>\u001b[0m \u001b[39mprint\u001b[39m(\u001b[39mf\u001b[39m\u001b[39m\"\u001b[39m\u001b[39mGreatest Increase in Profits: \u001b[39m\u001b[39m{\u001b[39;00mgreatest_increase_date\u001b[39m}\u001b[39;00m\u001b[39m \u001b[39m\u001b[39m{\u001b[39;00mgreatest_increase\u001b[39m}\u001b[39;00m\u001b[39m\"\u001b[39m)\n\u001b[0;32m      <a href='vscode-notebook-cell:/c%3A/Users/oakos/Desktop/Python-challenge/python-challenge/Pybank/main.ipynb#X20sZmlsZQ%3D%3D?line=5'>6</a>\u001b[0m \u001b[39mprint\u001b[39m(\u001b[39mf\u001b[39m\u001b[39m\"\u001b[39m\u001b[39mGreatest Decrease in Profits: \u001b[39m\u001b[39m{\u001b[39;00mgreatest_decrease_date\u001b[39m}\u001b[39;00m\u001b[39m \u001b[39m\u001b[39m{\u001b[39;00mgreatest_decrease\u001b[39m}\u001b[39;00m\u001b[39m\"\u001b[39m)\n",
      "\u001b[1;31mNameError\u001b[0m: name 'average_change' is not defined"
     ]
    }
   ],
   "source": [
    "print(\"----------Summary statistics--------\")\n",
    "print(f\"Total Months: {total_months}\")\n",
    "print(f\"Total_Profit_loss: {total_profit_loss}\")\n",
    "print(f\"Average_Change: {round(average_change),2})\")\n",
    "print(f\"Greatest Increase in Profits: {greatest_increase_date} {greatest_increase}\")\n",
    "print(f\"Greatest Decrease in Profits: {greatest_decrease_date} {greatest_decrease}\")"
   ]
  }
 ],
 "metadata": {
  "kernelspec": {
   "display_name": "dev",
   "language": "python",
   "name": "python3"
  },
  "language_info": {
   "codemirror_mode": {
    "name": "ipython",
    "version": 3
   },
   "file_extension": ".py",
   "mimetype": "text/x-python",
   "name": "python",
   "nbconvert_exporter": "python",
   "pygments_lexer": "ipython3",
   "version": "3.10.13"
  }
 },
 "nbformat": 4,
 "nbformat_minor": 2
}
